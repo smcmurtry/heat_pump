{
 "cells": [
  {
   "cell_type": "code",
   "execution_count": 1,
   "id": "f5e6043b",
   "metadata": {},
   "outputs": [],
   "source": [
    "import pandas as pd"
   ]
  },
  {
   "cell_type": "markdown",
   "id": "29acfd12",
   "metadata": {},
   "source": [
    "## Anonymize Enbridge data"
   ]
  },
  {
   "cell_type": "code",
   "execution_count": 2,
   "id": "8067a2cd",
   "metadata": {},
   "outputs": [],
   "source": [
    "enbridge = pd.read_csv(\"./enbridge_data.csv\")"
   ]
  },
  {
   "cell_type": "code",
   "execution_count": 5,
   "id": "6d7b5b73",
   "metadata": {},
   "outputs": [
    {
     "data": {
      "text/plain": [
       "Index(['Account ID', ' Name', ' Invoice Date', ' Invoice Number',\n",
       "       ' Billing Period From', ' Billing Period To', ' Consumption',\n",
       "       ' Gas Charge', ' Gas Charge HST', ' Invoice Amount',\n",
       "       ' Late Payment Effective Date'],\n",
       "      dtype='object')"
      ]
     },
     "execution_count": 5,
     "metadata": {},
     "output_type": "execute_result"
    }
   ],
   "source": [
    "enbridge.columns"
   ]
  },
  {
   "cell_type": "code",
   "execution_count": 8,
   "id": "f5ae4dd8",
   "metadata": {},
   "outputs": [],
   "source": [
    "del enbridge[\"Account ID\"]"
   ]
  },
  {
   "cell_type": "code",
   "execution_count": 9,
   "id": "4ffaa77d",
   "metadata": {},
   "outputs": [],
   "source": [
    "del enbridge[\" Name\"]"
   ]
  },
  {
   "cell_type": "code",
   "execution_count": 10,
   "id": "d7c03eff",
   "metadata": {},
   "outputs": [],
   "source": [
    "del enbridge[\" Invoice Number\"]"
   ]
  },
  {
   "cell_type": "code",
   "execution_count": 12,
   "id": "5abf34d8",
   "metadata": {},
   "outputs": [],
   "source": [
    "enbridge.to_csv(\"./enbridge_data.csv\", index=False)"
   ]
  },
  {
   "cell_type": "code",
   "execution_count": null,
   "id": "723bc443",
   "metadata": {},
   "outputs": [],
   "source": []
  }
 ],
 "metadata": {
  "kernelspec": {
   "display_name": "Python 3",
   "language": "python",
   "name": "python3"
  },
  "language_info": {
   "codemirror_mode": {
    "name": "ipython",
    "version": 3
   },
   "file_extension": ".py",
   "mimetype": "text/x-python",
   "name": "python",
   "nbconvert_exporter": "python",
   "pygments_lexer": "ipython3",
   "version": "3.9.9"
  }
 },
 "nbformat": 4,
 "nbformat_minor": 5
}
